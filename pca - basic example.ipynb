{
 "cells": [
  {
   "cell_type": "code",
   "execution_count": 1,
   "metadata": {},
   "outputs": [],
   "source": [
    "import pandas as pd\n",
    "import numpy as np"
   ]
  },
  {
   "cell_type": "code",
   "execution_count": 2,
   "metadata": {},
   "outputs": [
    {
     "name": "stdout",
     "output_type": "stream",
     "text": [
      "[(1, 1, 9), (2, 4, 6), (3, 7, 4), (4, 11, 4), (5, 9, 2)]\n"
     ]
    }
   ],
   "source": [
    "x1 = [1,2,3,4,5]\n",
    "x2 = [1,4,7,11,9]\n",
    "x3 = [9,6,4,4,2]\n",
    "\n",
    "x = list(zip(x1,x2,x3))\n",
    "print (x)"
   ]
  },
  {
   "cell_type": "code",
   "execution_count": 9,
   "metadata": {},
   "outputs": [
    {
     "name": "stdout",
     "output_type": "stream",
     "text": [
      "[[-0.31047214 -0.80139329  0.5112493 ]\n",
      " [-0.26172187  0.58910629  0.76449686]]\n",
      "[[ 6.99346524  0.40025719]\n",
      " [ 2.74506534 -0.38763637]\n",
      " [-0.99208527 -0.41103308]\n",
      " [-4.50813057  1.68367021]\n",
      " [-4.23831473 -1.28525795]]\n",
      "Explained variance for each component is  [0.94579769 0.04907163]\n"
     ]
    }
   ],
   "source": [
    "from sklearn.decomposition import PCA\n",
    "\n",
    "z = PCA(n_components=2)\n",
    "components = z.fit_transform(x)\n",
    "print (z.components_)\n",
    "print (components)\n",
    "print ('Explained variance for each component is ', z.explained_variance_ratio_)\n"
   ]
  },
  {
   "cell_type": "code",
   "execution_count": 11,
   "metadata": {},
   "outputs": [
    {
     "name": "stdout",
     "output_type": "stream",
     "text": [
      "0.0\n"
     ]
    }
   ],
   "source": [
    "X =[4,4,4,4,4,4,4] \n",
    "print (np.std(X))"
   ]
  },
  {
   "cell_type": "code",
   "execution_count": null,
   "metadata": {},
   "outputs": [],
   "source": []
  }
 ],
 "metadata": {
  "kernelspec": {
   "display_name": "Python 3",
   "language": "python",
   "name": "python3"
  },
  "language_info": {
   "codemirror_mode": {
    "name": "ipython",
    "version": 3
   },
   "file_extension": ".py",
   "mimetype": "text/x-python",
   "name": "python",
   "nbconvert_exporter": "python",
   "pygments_lexer": "ipython3",
   "version": "3.7.3"
  }
 },
 "nbformat": 4,
 "nbformat_minor": 2
}
